{
 "cells": [
  {
   "cell_type": "markdown",
   "metadata": {},
   "source": [
    "# Introduction\n",
    "\n",
    "## History of Machine Learning\n",
    "\n",
    "The field of machine learning has its roots in *Artificial intelligence (AI)*, which started in 1950 with the seminal paper [Computing Machinery and Intelligence](https://www.csee.umbc.edu/courses/471/papers/turing.pdf). In this paper, Alan Turing posed a key question: \"Can machine **think**?\" and also introduced the popular *Turing test*:\n",
    "\n",
    "> A computer program is said to be intelligent if it could carry on a conversation that was indistinguishable from a conversation with a human being."
   ]
  },
  {
   "cell_type": "code",
   "execution_count": 27,
   "metadata": {
    "collapsed": false
   },
   "outputs": [
    {
     "data": {
      "text/html": [
       "\n",
       "        <iframe\n",
       "            width=\"400\"\n",
       "            height=\"300\"\n",
       "            src=\"https://www.youtube.com/embed/sXx-PpEBR7k\"\n",
       "            frameborder=\"0\"\n",
       "            allowfullscreen\n",
       "        ></iframe>\n",
       "        "
      ],
      "text/plain": [
       "<IPython.lib.display.YouTubeVideo at 0xcfe7240>"
      ]
     },
     "execution_count": 27,
     "metadata": {},
     "output_type": "execute_result"
    }
   ],
   "source": [
    "from IPython.display import YouTubeVideo\n",
    "YouTubeVideo('sXx-PpEBR7k')"
   ]
  },
  {
   "cell_type": "markdown",
   "metadata": {
    "collapsed": true
   },
   "source": [
    "The first generation of AI researchers were John McCarthy \n",
    "(who invented Lisp and established Stanford AI Laboratory), \n",
    "Marvin Minsky and Frank Rosenblatt (who invented perceptron algorithm)\n",
    "and their work consisted of building theorem provers, natural language processing, \n",
    "logic programming, etc.\n",
    "\n",
    "<!---\n",
    "### Neural Network\n",
    "\n",
    "### Logic Programming\n",
    "-->\n",
    "\n",
    "### Knowledge base systems\n",
    "\n",
    "The next generation of AI research was on developing [expert systems](https://en.wikipedia.org/wiki/Expert_system)  where the focus was building a system that emulates the decision-making ability of a human expert. The expert system is an example of a broad class of system, commonly referred to as *Knowledge base system*. The Knowledge base system consists of two primary components: \n",
    "\n",
    "1. Knowledge base Or fact base: A database that stores collection of facts or assertions (and may be even entities and relationships between entities).\n",
    "\n",
    "2. Inference engine: applies set of logical rules on the facts available in the knowledge base to deduce new facts.\n",
    " \n",
    "Here are some popular knowledge base systems:\n",
    "\n",
    "1. In 1970, Shortliffe and others at Stanford developed an expert system for medical diagnosis called *Mycin*. Mycin would ask the physician a series of \"yes or no\" questions and would return list of (diagnosis (i.e. culprit bacteria), probability, reasoning behind the diagnosis, recommended drug treatment). To specify the \"reasoning behind the diagnosis\", Mycin would return list of questions/answers along with the set of rules that it used to come to the diagnosis.\n",
    "\n",
    "2. [Cyc](https://en.wikipedia.org/wiki/Cyc) developed by Douglas Lenat in 1984.\n",
    "\n",
    "3. Sub-components of IBM Watson"
   ]
  },
  {
   "cell_type": "code",
   "execution_count": 1,
   "metadata": {
    "collapsed": false
   },
   "outputs": [
    {
     "data": {
      "text/html": [
       "\n",
       "        <iframe\n",
       "            width=\"400\"\n",
       "            height=\"300\"\n",
       "            src=\"https://www.youtube.com/embed/_Xcmh1LQB9I\"\n",
       "            frameborder=\"0\"\n",
       "            allowfullscreen\n",
       "        ></iframe>\n",
       "        "
      ],
      "text/plain": [
       "<IPython.lib.display.YouTubeVideo at 0x8e981d0>"
      ]
     },
     "execution_count": 1,
     "metadata": {},
     "output_type": "execute_result"
    }
   ],
   "source": [
    "from IPython.display import YouTubeVideo\n",
    "YouTubeVideo('_Xcmh1LQB9I')"
   ]
  },
  {
   "cell_type": "markdown",
   "metadata": {},
   "source": [
    "### Neural networks returns\n",
    "\n",
    "With the invention of back-propogation algorithm, research on neural networks \n",
    "(which was almost stagnant due to\n",
    "criticism by Marvin Minsky on Rosenblatt's perceptron) revived during 1980s.\n",
    "\n",
    "\n",
    "### VC Theory\n",
    "\n",
    "From 1980 to early 1990s, Vladimir Vapnik introduced [Vapnik-Chervonenkis theory](https://www.amazon.com/Statistical-Learning-Information-Science-Statistics/dp/0387987800) (VC theory),\n",
    "that attempts to explain the learning process from a statistical point of view.\n",
    "The key question of this *new* field *machine learning* that was based on Vapnik's framework \n",
    "was no longer Turing's grand question, but much more simple and realistic one:\n",
    "\"(Given enough examples) Can machine **learn** something about them ?\":\n",
    "    \n",
    "> A computer program is said to *learn* from experience E with respect to some class of tasks T and performance measure P, \n",
    "if its performance at tasks in T, as measured by P, improves with experience E ... by Tom Mitchell.\n",
    "\n",
    "Here experience E refers to data (or examples), performance measure P usually refers to accuracy (or some other metrics) and\n",
    "the task T refers to machine learning algorithms."
   ]
  },
  {
   "cell_type": "code",
   "execution_count": 28,
   "metadata": {
    "collapsed": false
   },
   "outputs": [
    {
     "data": {
      "text/html": [
       "\n",
       "        <iframe\n",
       "            width=\"400\"\n",
       "            height=\"300\"\n",
       "            src=\"https://www.youtube.com/embed/jmMcJ4XlrWM?start=195&end=234\"\n",
       "            frameborder=\"0\"\n",
       "            allowfullscreen\n",
       "        ></iframe>\n",
       "        "
      ],
      "text/plain": [
       "<IPython.lib.display.YouTubeVideo at 0xd069240>"
      ]
     },
     "execution_count": 28,
     "metadata": {},
     "output_type": "execute_result"
    }
   ],
   "source": [
    "from IPython.display import YouTubeVideo\n",
    "YouTubeVideo('jmMcJ4XlrWM', start=195, end=234)"
   ]
  },
  {
   "cell_type": "markdown",
   "metadata": {},
   "source": [
    "The success of VC theory for number of problems like handwriting recognition, using support vector machines (SVM),\n",
    "generated a lot of interests in machine learning community.\n",
    "\n",
    "\n",
    "### Bayesian Theory\n",
    "\n",
    "There is equally interesting parallel timeline in the field of (Bayesian) *Statistical Inference*. This field is addressed by various\n",
    "names: Probability theory (before 1838), Inverse Probability (from 1838 to 1950) and Bayesian Analysis (after 1950). The\n",
    "concepts of probability were formalized by Pascal and Fermat in 17th century and later made much more rigorous by Kolmogorov\n",
    "in 1930 using measure theory. In 1761, Thomas Bayes proved following theorem (now known as *Bayes theorem*):\n",
    "\n",
    "$$p(H|E) = \\dfrac{p(E|H)p(H)}{p(E)}$$\n",
    "\n",
    "This simple equation has extremely important implication. It says that if we believe the hypothesis H to be true with probability\n",
    "P(H) (also called as prior) and if we are given additional evidence E from the experiment, we can then update our belief about\n",
    "H to P(H | E) using the above equation. Wow ... doesn’t this essentially summarize how a scientist should think ?\n",
    "\n",
    "Based on what prior was used, the research in this field can be classified into four distinct eras. The first era (*Objective Bayesians*) started with Thomas Bayes and Laplace, who liked to use uniform priors for most of the problems<sup>1</sup>. This continued\n",
    "till early 19th century<sup>2</sup> where intensive efforts were made to circumvent the priors. Important researchers during this era (also\n",
    "called as frequentists) were Fisher (likelihood methods, fiducial inference), Neyman (founded frequentism) and Wald (Decision\n",
    "theory) and the key question they were interested in was how the results would change if you ran a procedure over and over\n",
    "again, with data changing each time. This is considered to be golden era for statistical inference as lot of discoveries were made\n",
    "in extremely short time. Around 1950s, during the third era (*Subjective Bayesians*), the researchers like Savage and de Finetti\n",
    "proposed that one should sit down with domain expert to find appropriate priors for any problem. In the fourth era, researchers\n",
    "like Harold Jeffreys (who was famous for his critique about p-value: ‘An hypothesis that may be true, may be rejected because\n",
    "it has not predicted observable results that have not occurred’) revived the field of objective bayes. The key idea of objective\n",
    "bayesian methodology is to use frequentist analytic tools to guide their choice of priors.\n",
    "\n",
    "Both Objective bayesian methodology and Vapnik’s framework are widely used in the field of machine learning.\n",
    "\n",
    "### Deep Neural Network\n",
    "\n",
    "TODO\n",
    "\n",
    "\n",
    "## When to use machine learning\n",
    "\n",
    "Machine Learning approach is suitable if the problem satisfies following three criteria:\n",
    "\n",
    "1. There exists sufficiently large data *D*<sub>n</sub> = { (**X**<sub>i</sub>, *Y*<sub>i</sub>) }<sub>i = 1 .. n</sub>.\n",
    "2. There exists a pattern in the data that you intend to learn. That is, there exist a target function (or distribution) *f*: **X** -> *Y* which maps input feature vector to output label.\n",
    "3. We cannot pin that pattern down mathematically or algorithmically using set of rules (i.e. *f* is unknown).\n",
    "\n",
    "\n",
    "Other hints that you can use to determine whether machine learning is suitable for your problem:\n",
    "\n",
    "1. Don’t know how to calculate the output from the input (eg: medical diagnosis, bioinformatics, biomedical imagery/computer vision).\n",
    "2. Requirements change rapidly (eg: spam filtering, search engines).\n",
    "3. Environment in which the system operates change rapidly (eg: stock market, video games, robotics).\n",
    "4. There exists tremendous individual variability (eg: recommendations, speech/handwriting recognition).\n",
    "\n",
    "## Stages of Machine Learning\n",
    "\n",
    "### Step 1: Data collection\n",
    "\n",
    "In this step, we capture the information of real world object and store it in the computer either as text, image, audio file, video file or in one of common datastores (i.e. database, knowledge base, etc). \n",
    "\n",
    "Let's use a simple example of recognizing digits. First, we ask set of volunteers to write numbers from 0 to 9 on piece of black paper and then scan it into a jpeg file. "
   ]
  },
  {
   "cell_type": "code",
   "execution_count": 29,
   "metadata": {
    "collapsed": false
   },
   "outputs": [
    {
     "data": {
      "image/png": "[encoded data removed]",
      "text/plain": [
       "<matplotlib.figure.Figure at 0xd1c44a8>"
      ]
     },
     "metadata": {},
     "output_type": "display_data"
    }
   ],
   "source": [
    "%matplotlib inline\n",
    "import matplotlib.pyplot as plt\n",
    "from sklearn import datasets\n",
    "digits = datasets.load_digits()\n",
    "images_and_labels = list(zip(digits.images, digits.target))\n",
    "for index, (image, label) in enumerate(images_and_labels[:10]):\n",
    "    plt.subplot(2, 10, index + 1)\n",
    "    plt.axis('off')\n",
    "    plt.imshow(image, cmap=plt.cm.gray_r)\n",
    "plt.show()"
   ]
  },
  {
   "cell_type": "markdown",
   "metadata": {},
   "source": [
    "### Step 2: Feature representation\n",
    "\n",
    "Now, we convert the binary object into a format required for machine learning algorithm. This is usually (but not necessarily) a D-dimensional numeric vector (called as feature):"
   ]
  },
  {
   "cell_type": "code",
   "execution_count": 30,
   "metadata": {
    "collapsed": false
   },
   "outputs": [
    {
     "data": {
      "image/png": "[encoded data removed]",
      "text/plain": [
       "<matplotlib.figure.Figure at 0xbea1080>"
      ]
     },
     "metadata": {},
     "output_type": "display_data"
    }
   ],
   "source": [
    "%matplotlib inline\n",
    "import matplotlib.pyplot as plt\n",
    "from sklearn import datasets\n",
    "digits = datasets.load_digits()\n",
    "images_and_labels = list(zip(digits.images, digits.target))\n",
    "for index, (image, label) in enumerate(images_and_labels[:1]):\n",
    "    plt.subplot(2, 1, index + 1)\n",
    "    plt.axis('off')\n",
    "    plt.imshow(image, cmap=plt.cm.gray_r)\n",
    "    plt.title('Feature: ' + str(image.flatten()))\n",
    "plt.show()"
   ]
  },
  {
   "cell_type": "markdown",
   "metadata": {},
   "source": [
    "This is an extremely crucial step and if done incorrectly can screw up the whole learning process (atleast for most if not all\n",
    "problems). So, most applied machine learning researchers spend lot of time with domain experts understanding, extracting and\n",
    "tuning the features.\n",
    "\n",
    "This step is usually accompanied with data cleaning (which is removing noisy data), but we will skip that for now.\n",
    "\n",
    "### Step 3: Dimensionality reduction\n",
    "\n",
    "For computational feasibility and for machine learning algorithm to work correctly, number of dimensions *D* should be reasonable (i.e. D <<< infinity). So, during this process, you will also use the following dimensionality reduction techniques:\n",
    "\n",
    "1. Feature selection: chose relevant features for the model\n",
    "2. Feature extraction: transform high-dimensional data to lower-dimensions\n",
    "\n",
    "Both the methods helps to alleviate the curse of dimensionality, improve performance of the model and speed up the learning\n",
    "process. The term \"curse of dimensionality\" (coined by Richard Bellman) refers to the fact that some problems become intractable as the number of variables increases. In Bayesian statistics, the problem of curse of dimensionality occurs while evaluating posterior distribution, which often has many parameters. However, this is usually overcomed by using MCMC methods.\n",
    "\n",
    "The above two steps is often referred to as *feature engineering*. \n",
    "\n",
    "### Step 4: Training and Testing\n",
    "\n",
    "After performing the above two steps for all the objects, we get the input data, which is divided into three parts:\n",
    "\n",
    "1. Training data (about 60 to 70% of the input data): The training data is used to learn the parameters of the model (i.e. parameter selection).\n",
    "2. Validation data (about 10 to 20% of the input data): The validation is used to learn the hyperparameters (i.e. model selection).\n",
    "3. Test data (about 20% of the input data): The test data is used to test whether the model *generalizes* or not.\n",
    "\n",
    "Let's ignore validation for now and see how to split the above data into training and testing."
   ]
  },
  {
   "cell_type": "code",
   "execution_count": 31,
   "metadata": {
    "collapsed": true
   },
   "outputs": [],
   "source": [
    "from sklearn import datasets\n",
    "from sklearn.utils import shuffle\n",
    "digits = datasets.load_digits()\n",
    "X_digits = digits.data\n",
    "y_digits = digits.target\n",
    "X_digits, y_digits  = shuffle(X_digits, y_digits, random_state=0)\n",
    "n_samples = len(X_digits)\n",
    "X_train = X_digits[:int(.8 * n_samples)]\n",
    "y_train = y_digits[:int(.8 * n_samples)]\n",
    "X_test = X_digits[int(.8 * n_samples):]\n",
    "y_test = y_digits[int(.8 * n_samples):]"
   ]
  },
  {
   "cell_type": "markdown",
   "metadata": {},
   "source": [
    "#### General Machine Learning Setup\n",
    "1. Perform feature selection and feature extraction to get the input data;\n",
    "2. Partition the input data into training, validation and test data;\n",
    "3. foreach model do\n",
    "  * **Model Selection**: Learn hyperparameters by optimizing model selection criterion on validation data\n",
    "  * foreach parameter do\n",
    "      * **Model fitting/training**: Learn parameters by optimizing training criterion on training data\n",
    "\n",
    "After above process, the learned model is *m* and the learned parameters are *p*. Use test data to verify the accuracy (or some other performance measure) of the model/parameter *(m; p)*.\n",
    "\n",
    "To test that we are actually learning, we slowly increase the number of training datapoints (i.e. experience) and see if the performance (i.e. score) increases. As an example, we will use a simple machine learning model (i.e. k-Nearest Neighbour) and plot the performance vs number of training datapoints. \n",
    "\n",
    "Recall:\n",
    "> A computer program is said to learn from experience E with respect to some class of tasks T and performance measure P, if its performance at tasks in T, as measured by P, improves with experience E."
   ]
  },
  {
   "cell_type": "code",
   "execution_count": 32,
   "metadata": {
    "collapsed": false
   },
   "outputs": [
    {
     "data": {
      "image/png": "[encoded data removed]",
      "text/plain": [
       "<matplotlib.figure.Figure at 0x107f4908>"
      ]
     },
     "metadata": {},
     "output_type": "display_data"
    }
   ],
   "source": [
    "%matplotlib inline\n",
    "import matplotlib.pyplot as plt\n",
    "from sklearn import datasets, neighbors\n",
    "digits = datasets.load_digits()\n",
    "X_digits = digits.data\n",
    "y_digits = digits.target\n",
    "X_digits, y_digits  = shuffle(X_digits, y_digits, random_state=0)\n",
    "n_samples = len(X_digits)\n",
    "X_test = X_digits[int(.8 * n_samples):]\n",
    "y_test = y_digits[int(.8 * n_samples):]\n",
    "training_fraction = [0.005, 0.01, 0.05, 0.1, 0.2, 0.3, 0.4, 0.5, 0.6, 0.7, 0.8]\n",
    "scores = []\n",
    "for frac in training_fraction:\n",
    "    X_train = X_digits[:int(frac * n_samples)]\n",
    "    y_train = y_digits[:int(frac * n_samples)]\n",
    "    classifier = neighbors.KNeighborsClassifier()\n",
    "    score = classifier.fit(X_train, y_train).score(X_test, y_test)\n",
    "    scores = scores + [ score ]\n",
    "plt.plot(training_fraction, scores)\n",
    "plt.xlabel('Fraction of data used for training: E')\n",
    "plt.ylabel('Prediction score (higher the better): P')\n",
    "plt.show()"
   ]
  },
  {
   "cell_type": "markdown",
   "metadata": {
    "collapsed": true
   },
   "source": [
    "---\n",
    "\n",
    "Footnotes:\n",
    "\n",
    "<sup>1</sup> Ofcourse this is a slight exaggeration as Laplace was the one who invented conjugate priors and exponential families and used them consistently.\n",
    "\n",
    "<sup>2</sup> Again an exaggeration, as Gauss (and many others) used maximum likelihood methods as early as 18th century."
   ]
  }
 ],
 "metadata": {
  "kernelspec": {
   "display_name": "Python 2",
   "language": "python",
   "name": "python2"
  },
  "language_info": {
   "codemirror_mode": {
    "name": "ipython",
    "version": 2
   },
   "file_extension": ".py",
   "mimetype": "text/x-python",
   "name": "python",
   "nbconvert_exporter": "python",
   "pygments_lexer": "ipython2",
   "version": "2.7.12"
  },
  "widgets": {
   "state": {},
   "version": "1.1.2"
  }
 },
 "nbformat": 4,
 "nbformat_minor": 0
}
